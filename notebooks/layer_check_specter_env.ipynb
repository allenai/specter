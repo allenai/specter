{
 "cells": [
  {
   "cell_type": "code",
   "execution_count": 4,
   "id": "104ceb5a",
   "metadata": {},
   "outputs": [
    {
     "name": "stderr",
     "output_type": "stream",
     "text": [
      "/home/olli/anaconda3/envs/specter/lib/python3.7/site-packages/tqdm/auto.py:22: TqdmWarning: IProgress not found. Please update jupyter and ipywidgets. See https://ipywidgets.readthedocs.io/en/stable/user_install.html\n",
      "  from .autonotebook import tqdm as notebook_tqdm\n"
     ]
    }
   ],
   "source": [
    "import torch\n",
    "from transformers import AutoTokenizer, AutoModel, AutoConfig\n"
   ]
  },
  {
   "cell_type": "code",
   "execution_count": 4,
   "id": "0072f454",
   "metadata": {},
   "outputs": [
    {
     "name": "stderr",
     "output_type": "stream",
     "text": [
      "Downloading: 100%|█████████████████████████████████████████████████████████████████████████████████████████████████████████████████████████████████████████████████████████| 385/385 [00:00<00:00, 123kB/s]\n",
      "Downloading: 100%|██████████████████████████████████████████████████████████████████████████████████████████████████████████████████████████████████████████████████████| 442M/442M [01:04<00:00, 6.84MB/s]\n"
     ]
    }
   ],
   "source": [
    "model_scibert_from_api = AutoModel.from_pretrained(\"allenai/scibert_scivocab_cased\")"
   ]
  },
  {
   "cell_type": "code",
   "execution_count": 7,
   "id": "1a88822e",
   "metadata": {},
   "outputs": [
    {
     "name": "stderr",
     "output_type": "stream",
     "text": [
      "Downloading: 100%|█████████████████████████████████████████████████████████████████████████████████████████████████████████████████████████████████████████████████████████| 612/612 [00:00<00:00, 433kB/s]\n",
      "Downloading: 100%|██████████████████████████████████████████████████████████████████████████████████████████████████████████████████████████████████████████████████████| 440M/440M [01:11<00:00, 6.11MB/s]\n"
     ]
    }
   ],
   "source": [
    "specter_from_api = AutoModel.from_pretrained(\"allenai/specter\")"
   ]
  },
  {
   "cell_type": "code",
   "execution_count": 9,
   "id": "9a7f9f5c",
   "metadata": {},
   "outputs": [
    {
     "name": "stderr",
     "output_type": "stream",
     "text": [
      "Downloading: 100%|█████████████████████████████████████████████████████████████████████████████████████████████████████████████████████████████████████████████████████████| 433/433 [00:00<00:00, 268kB/s]\n",
      "Downloading: 100%|██████████████████████████████████████████████████████████████████████████████████████████████████████████████████████████████████████████████████████| 501M/501M [01:13<00:00, 6.79MB/s]\n"
     ]
    }
   ],
   "source": [
    "finbert_from_api = AutoModel.from_pretrained(\"TurkuNLP/bert-base-finnish-cased-v1\")"
   ]
  },
  {
   "cell_type": "code",
   "execution_count": 13,
   "id": "6a1e993e",
   "metadata": {},
   "outputs": [
    {
     "name": "stderr",
     "output_type": "stream",
     "text": [
      "Some weights of BertModel were not initialized from the model checkpoint at ./hf_model/pytorch_model.bin and are newly initialized: ['bert.pooler.dense.weight', 'bert.pooler.dense.bias']\n",
      "You should probably TRAIN this model on a down-stream task to be able to use it for predictions and inference.\n"
     ]
    }
   ],
   "source": [
    "finbert_config = AutoConfig.from_pretrained('./hf_model/bert_config.json')\n",
    "finbert_binary = AutoModel.from_pretrained('./hf_model/pytorch_model.bin', config=finbert_config)"
   ]
  },
  {
   "cell_type": "code",
   "execution_count": 20,
   "id": "f6710c2a",
   "metadata": {},
   "outputs": [],
   "source": [
    "scibert_config = AutoConfig.from_pretrained('./data/scibert_extracted/bert_config.json')\n",
    "scibert_binary = AutoModel.from_pretrained('./data/scibert_extracted/pytorch_model.bin', config=scibert_config)"
   ]
  },
  {
   "cell_type": "code",
   "execution_count": 17,
   "id": "76cf18bc",
   "metadata": {},
   "outputs": [
    {
     "data": {
      "text/plain": [
       "(200,\n",
       " ['embeddings.position_ids',\n",
       "  'embeddings.word_embeddings.weight',\n",
       "  'embeddings.position_embeddings.weight',\n",
       "  'embeddings.token_type_embeddings.weight',\n",
       "  'embeddings.LayerNorm.weight',\n",
       "  'embeddings.LayerNorm.bias',\n",
       "  'encoder.layer.0.attention.self.query.weight',\n",
       "  'encoder.layer.0.attention.self.query.bias',\n",
       "  'encoder.layer.0.attention.self.key.weight',\n",
       "  'encoder.layer.0.attention.self.key.bias'])"
      ]
     },
     "execution_count": 17,
     "metadata": {},
     "output_type": "execute_result"
    }
   ],
   "source": [
    "read_layer_names(finbert_binary)"
   ]
  },
  {
   "cell_type": "code",
   "execution_count": 21,
   "id": "525e3d80",
   "metadata": {},
   "outputs": [
    {
     "data": {
      "text/plain": [
       "(200,\n",
       " ['embeddings.position_ids',\n",
       "  'embeddings.word_embeddings.weight',\n",
       "  'embeddings.position_embeddings.weight',\n",
       "  'embeddings.token_type_embeddings.weight',\n",
       "  'embeddings.LayerNorm.weight',\n",
       "  'embeddings.LayerNorm.bias',\n",
       "  'encoder.layer.0.attention.self.query.weight',\n",
       "  'encoder.layer.0.attention.self.query.bias',\n",
       "  'encoder.layer.0.attention.self.key.weight',\n",
       "  'encoder.layer.0.attention.self.key.bias'])"
      ]
     },
     "execution_count": 21,
     "metadata": {},
     "output_type": "execute_result"
    }
   ],
   "source": [
    "read_layer_names(scibert_binary)"
   ]
  },
  {
   "cell_type": "code",
   "execution_count": 5,
   "id": "fcb5b4b1",
   "metadata": {},
   "outputs": [],
   "source": [
    "def read_layer_names(model):\n",
    "    state_dict = model.state_dict()\n",
    "    layer_count = len(list(state_dict.keys()))\n",
    "    first_10_layer_names = list(state_dict.keys())[:10]\n",
    "    return layer_count, first_10_layer_names"
   ]
  },
  {
   "cell_type": "code",
   "execution_count": 6,
   "id": "7114a21d",
   "metadata": {},
   "outputs": [
    {
     "data": {
      "text/plain": [
       "(200,\n",
       " ['embeddings.position_ids',\n",
       "  'embeddings.word_embeddings.weight',\n",
       "  'embeddings.position_embeddings.weight',\n",
       "  'embeddings.token_type_embeddings.weight',\n",
       "  'embeddings.LayerNorm.weight',\n",
       "  'embeddings.LayerNorm.bias',\n",
       "  'encoder.layer.0.attention.self.query.weight',\n",
       "  'encoder.layer.0.attention.self.query.bias',\n",
       "  'encoder.layer.0.attention.self.key.weight',\n",
       "  'encoder.layer.0.attention.self.key.bias'])"
      ]
     },
     "execution_count": 6,
     "metadata": {},
     "output_type": "execute_result"
    }
   ],
   "source": [
    "read_layer_names(model_scibert_from_api)"
   ]
  },
  {
   "cell_type": "code",
   "execution_count": 8,
   "id": "3aeb2d1e",
   "metadata": {},
   "outputs": [
    {
     "data": {
      "text/plain": [
       "(200,\n",
       " ['embeddings.position_ids',\n",
       "  'embeddings.word_embeddings.weight',\n",
       "  'embeddings.position_embeddings.weight',\n",
       "  'embeddings.token_type_embeddings.weight',\n",
       "  'embeddings.LayerNorm.weight',\n",
       "  'embeddings.LayerNorm.bias',\n",
       "  'encoder.layer.0.attention.self.query.weight',\n",
       "  'encoder.layer.0.attention.self.query.bias',\n",
       "  'encoder.layer.0.attention.self.key.weight',\n",
       "  'encoder.layer.0.attention.self.key.bias'])"
      ]
     },
     "execution_count": 8,
     "metadata": {},
     "output_type": "execute_result"
    }
   ],
   "source": [
    "read_layer_names(specter_from_api)"
   ]
  },
  {
   "cell_type": "code",
   "execution_count": 10,
   "id": "a7ddd528",
   "metadata": {},
   "outputs": [
    {
     "data": {
      "text/plain": [
       "(200,\n",
       " ['embeddings.position_ids',\n",
       "  'embeddings.word_embeddings.weight',\n",
       "  'embeddings.position_embeddings.weight',\n",
       "  'embeddings.token_type_embeddings.weight',\n",
       "  'embeddings.LayerNorm.weight',\n",
       "  'embeddings.LayerNorm.bias',\n",
       "  'encoder.layer.0.attention.self.query.weight',\n",
       "  'encoder.layer.0.attention.self.query.bias',\n",
       "  'encoder.layer.0.attention.self.key.weight',\n",
       "  'encoder.layer.0.attention.self.key.bias'])"
      ]
     },
     "execution_count": 10,
     "metadata": {},
     "output_type": "execute_result"
    }
   ],
   "source": [
    "read_layer_names(finbert_from_api)"
   ]
  },
  {
   "cell_type": "markdown",
   "id": "a20f726e",
   "metadata": {},
   "source": [
    "# Scibert last 10 layers"
   ]
  },
  {
   "cell_type": "code",
   "execution_count": 2,
   "id": "94223111",
   "metadata": {},
   "outputs": [
    {
     "name": "stdout",
     "output_type": "stream",
     "text": [
      "text_field_embedder.token_embedder_bert._scalar_mix.scalar_parameters.11\n",
      "venue_field_embedder.token_embedder_tokens.weight\n",
      "feedforward._linear_layers.0.weight\n",
      "feedforward._linear_layers.0.bias\n",
      "layer_norm.gamma\n",
      "layer_norm.beta\n",
      "layer_norm_word_embedding.gamma\n",
      "layer_norm_word_embedding.beta\n",
      "layer_norm_word_embedding_venue.gamma\n",
      "layer_norm_word_embedding_venue.beta\n"
     ]
    }
   ],
   "source": [
    "layers = ['text_field_embedder.token_embedder_bert._scalar_mix.scalar_parameters.11', 'venue_field_embedder.token_embedder_tokens.weight', 'feedforward._linear_layers.0.weight', 'feedforward._linear_layers.0.bias', 'layer_norm.gamma', 'layer_norm.beta', 'layer_norm_word_embedding.gamma', 'layer_norm_word_embedding.beta', 'layer_norm_word_embedding_venue.gamma', 'layer_norm_word_embedding_venue.beta']\n",
    "\n",
    "for f in layers:\n",
    "    print(f)"
   ]
  },
  {
   "cell_type": "markdown",
   "id": "f2ca1f29",
   "metadata": {},
   "source": [
    "# Finbert last 10 layers "
   ]
  },
  {
   "cell_type": "code",
   "execution_count": 3,
   "id": "c0335275",
   "metadata": {},
   "outputs": [
    {
     "name": "stdout",
     "output_type": "stream",
     "text": [
      "bert.encoder.layer.11.output.dense.bias\n",
      "bert.encoder.layer.11.output.LayerNorm.weight\n",
      "bert.encoder.layer.11.output.LayerNorm.bias\n",
      "cls.predictions.bias\n",
      "cls.predictions.transform.dense.weight\n",
      "cls.predictions.transform.dense.bias\n",
      "cls.predictions.transform.LayerNorm.weight\n",
      "cls.predictions.transform.LayerNorm.bias\n",
      "cls.predictions.decoder.weight\n",
      "cls.predictions.decoder.bias\n"
     ]
    }
   ],
   "source": [
    "layers =  ['bert.encoder.layer.11.output.dense.bias', 'bert.encoder.layer.11.output.LayerNorm.weight', 'bert.encoder.layer.11.output.LayerNorm.bias', 'cls.predictions.bias', 'cls.predictions.transform.dense.weight', 'cls.predictions.transform.dense.bias', 'cls.predictions.transform.LayerNorm.weight', 'cls.predictions.transform.LayerNorm.bias', 'cls.predictions.decoder.weight', 'cls.predictions.decoder.bias']\n",
    "\n",
    "for f in layers:\n",
    "    print(f)"
   ]
  },
  {
   "cell_type": "markdown",
   "id": "879021b0",
   "metadata": {},
   "source": [
    "# Load Finbert weights.th"
   ]
  },
  {
   "cell_type": "code",
   "execution_count": 28,
   "id": "e2cc86a0",
   "metadata": {},
   "outputs": [],
   "source": [
    "model_state_fb = torch.load(\"/home/olli/UniHY/thesis_specter/hf_model/pytorch_model.bin\", map_location=torch.device(\"cpu\"))"
   ]
  },
  {
   "cell_type": "code",
   "execution_count": 24,
   "id": "9fa37fee",
   "metadata": {},
   "outputs": [],
   "source": [
    "torch.save(model_state, \"/home/olli/UniHY/thesis_specter/hf_model/my_weights.th\")"
   ]
  },
  {
   "cell_type": "code",
   "execution_count": 25,
   "id": "695ead99",
   "metadata": {},
   "outputs": [
    {
     "data": {
      "text/plain": [
       "205"
      ]
     },
     "execution_count": 25,
     "metadata": {},
     "output_type": "execute_result"
    }
   ],
   "source": [
    "len(model_state_fb.keys())"
   ]
  },
  {
   "cell_type": "code",
   "execution_count": 38,
   "id": "f592511a",
   "metadata": {},
   "outputs": [
    {
     "name": "stdout",
     "output_type": "stream",
     "text": [
      "{'bert', 'cls'}\n"
     ]
    }
   ],
   "source": [
    "layer_set = set()\n",
    "for i in  model_state_fb.keys():\n",
    "    layer_set.add(i.split(\".\")[0])\n",
    "\n",
    "print(layer_set)"
   ]
  },
  {
   "cell_type": "code",
   "execution_count": null,
   "id": "974e2899",
   "metadata": {},
   "outputs": [],
   "source": []
  },
  {
   "cell_type": "code",
   "execution_count": 32,
   "id": "8ebab1d3",
   "metadata": {},
   "outputs": [],
   "source": [
    "model_state_sb = torch.load(\"/home/olli/UniHY/thesis_specter/model_data/weights.th\", map_location=torch.device(\"cpu\"))"
   ]
  },
  {
   "cell_type": "code",
   "execution_count": 37,
   "id": "86eed7e7",
   "metadata": {},
   "outputs": [
    {
     "name": "stdout",
     "output_type": "stream",
     "text": [
      "{'layer_norm_word_embedding', 'text_field_embedder', 'layer_norm', 'layer_norm_word_embedding_venue', 'feedforward', 'venue_field_embedder'}\n"
     ]
    }
   ],
   "source": [
    "layer_set = set()\n",
    "for i in  model_state_sb.keys():\n",
    "    layer_set.add(i.split(\".\")[0])\n",
    "\n",
    "print(layer_set)"
   ]
  },
  {
   "cell_type": "code",
   "execution_count": 27,
   "id": "33c3af11",
   "metadata": {},
   "outputs": [
    {
     "data": {
      "text/plain": [
       "221"
      ]
     },
     "execution_count": 27,
     "metadata": {},
     "output_type": "execute_result"
    }
   ],
   "source": [
    "len(model_state.keys())"
   ]
  }
 ],
 "metadata": {
  "kernelspec": {
   "display_name": "specter",
   "language": "python",
   "name": "specter"
  },
  "language_info": {
   "codemirror_mode": {
    "name": "ipython",
    "version": 3
   },
   "file_extension": ".py",
   "mimetype": "text/x-python",
   "name": "python",
   "nbconvert_exporter": "python",
   "pygments_lexer": "ipython3",
   "version": "3.7.13"
  }
 },
 "nbformat": 4,
 "nbformat_minor": 5
}
