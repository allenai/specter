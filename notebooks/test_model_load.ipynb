{
 "cells": [
  {
   "cell_type": "code",
   "execution_count": 2,
   "id": "fe16826b",
   "metadata": {},
   "outputs": [],
   "source": [
    "from allennlp.common.params import Params, unflatten, with_fallback, parse_overrides\n",
    "from allennlp.models.model import Model, _DEFAULT_WEIGHTS\n",
    "import os "
   ]
  },
  {
   "cell_type": "code",
   "execution_count": 10,
   "id": "00d21299",
   "metadata": {},
   "outputs": [],
   "source": [
    "CONFIG_NAME = 'config.json'\n",
    "serialization_dir = './hf_model/'\n",
    "overrides = \"{'model':{'predict_mode':'true','include_venue':'false'},'dataset_reader':{'type':'specter_data_reader','predict_mode':'true','paper_features_path':'data/sample-metadata.json','included_text_fields': 'abstract title'},'vocabulary':{'directory_path':'data/vocab/'}}\"\n",
    "#overrides = \"{'model':{'predict_mode':'true','include_venue':'false'},'dataset_reader':{'type':'specter_data_reader','predict_mode':'true','paper_features_path':'data/sample-metadata.json','included_text_fields': 'abstract title'},'vocabulary':{'directory_path':'data/finbert_vocab/'}}\"\n",
    "_WEIGHTS_NAME='weights.th'\n",
    "weights_path='./hf_model/weights.th'\n",
    "cuda_device=\"-1\"\n",
    "weights_file = None"
   ]
  },
  {
   "cell_type": "code",
   "execution_count": null,
   "id": "524a9a74",
   "metadata": {},
   "outputs": [],
   "source": []
  },
  {
   "cell_type": "code",
   "execution_count": 17,
   "id": "f38f7f8a",
   "metadata": {},
   "outputs": [],
   "source": [
    "config = Params.from_file(os.path.join(serialization_dir, CONFIG_NAME), overrides)\n",
    "config.loading_from_archive = True\n",
    "weights_path = os.path.join(serialization_dir, _WEIGHTS_NAME)"
   ]
  },
  {
   "cell_type": "code",
   "execution_count": 33,
   "id": "a0d8b5cc",
   "metadata": {},
   "outputs": [
    {
     "data": {
      "text/plain": [
       "{'test_data_path': 'data/test.csv',\n",
       " 'evaluate_on_test': True,\n",
       " 'validation_dataset_reader': {'cache_path': 'data/tmp/dataset-instance-cache/',\n",
       "  'concat_title_abstract': True,\n",
       "  'data_file': 'data/data_v20190403.json',\n",
       "  'lazy': True,\n",
       "  'margin_fraction': 0.4,\n",
       "  'max_sequence_length': 200,\n",
       "  'overwrite_cache': True,\n",
       "  'paper_features_path': 'data/featues.json',\n",
       "  'ratio_hard_negatives': '0.2',\n",
       "  'ratio_training_samples': '1.0',\n",
       "  'samples_per_query': 5,\n",
       "  'token_indexers': {'bert': {'do_lowercase': True,\n",
       "    'pretrained_model': 'hf_model/vocab.txt',\n",
       "    'type': 'bert-pretrained',\n",
       "    'use_starting_offsets': True}},\n",
       "  'type': 'coview_data_reader',\n",
       "  'use_cls_token': False,\n",
       "  'word_splitter': 'bert-basic'},\n",
       " 'train_data_path': 'data/train.csv',\n",
       " 'validation_data_path': 'data/val.csv',\n",
       " 'trainer': {'cuda_device': 1,\n",
       "  'grad_clipping': 1,\n",
       "  'gradient_accumulation_batch_size': 32,\n",
       "  'learning_rate_scheduler': {'cut_frac': 0.1,\n",
       "   'num_epochs': 2,\n",
       "   'num_steps_per_epoch': 21250,\n",
       "   'type': 'slanted_triangular'},\n",
       "  'min_delta': '0',\n",
       "  'num_epochs': 2,\n",
       "  'optimizer': {'lr': '2e-5',\n",
       "   'max_grad_norm': 1,\n",
       "   'parameter_groups': [[['bias',\n",
       "      'LayerNorm.bias',\n",
       "      'LayerNorm.weight',\n",
       "      'layer_norm.weight'],\n",
       "     {'weight_decay': 0}]],\n",
       "   't_total': -1,\n",
       "   'type': 'bert_adam',\n",
       "   'weight_decay': 0.01},\n",
       "  'patience': 5,\n",
       "  'should_log_learning_rate': True,\n",
       "  'validation_metric': '-loss'},\n",
       " 'iterator': {'batch_size': '2', 'cache_instances': True, 'type': 'basic'},\n",
       " 'model': {'include_venue': 'false',\n",
       "  'layer_norm': True,\n",
       "  'abstract_encoder': {'embedding_dim': 768, 'type': 'boe'},\n",
       "  'author_feedforward': {'activations': ['relu'],\n",
       "   'dropout': [0.2],\n",
       "   'hidden_dims': [10],\n",
       "   'input_dim': 12,\n",
       "   'num_layers': 1},\n",
       "  'text_field_embedder': {'allow_unmatched_keys': True,\n",
       "   'embedder_to_indexer_map': {'bert': ['bert', 'bert-offsets'],\n",
       "    'tokens': ['tokens']},\n",
       "   'token_embedders': {'bert': {'pretrained_model': 'data/finnish_bert_cased/finnish_bert.tar.gz',\n",
       "     'requires_grad': 'all',\n",
       "     'type': 'bert-pretrained'}}},\n",
       "  'title_encoder': {'embedding_dim': 768, 'type': 'boe'},\n",
       "  'type': 'specter',\n",
       "  'author_position_embedder': {'token_embedders': {'tokens': {'embedding_dim': 2,\n",
       "     'trainable': True,\n",
       "     'type': 'embedding'}}},\n",
       "  'ignore_authors': True,\n",
       "  'venue_encoder': {'embedding_dim': 50, 'type': 'boe'},\n",
       "  'venue_field_embedder': {'token_embedders': {'tokens': {'embedding_dim': 50,\n",
       "     'trainable': True,\n",
       "     'type': 'embedding'}}},\n",
       "  'bert_finetune': True,\n",
       "  'loss_margin': '0.5',\n",
       "  'loss_distance': 'l2-norm',\n",
       "  'author_id_embedder': {'token_embedders': {'tokens': {'embedding_dim': 10,\n",
       "     'trainable': True,\n",
       "     'type': 'embedding'}}},\n",
       "  'feedforward': {'activations': ['relu'],\n",
       "   'dropout': [0],\n",
       "   'hidden_dims': [100],\n",
       "   'input_dim': 1586,\n",
       "   'num_layers': 1},\n",
       "  'embedding_layer_norm': True,\n",
       "  'dropout': 0.25,\n",
       "  'predict_mode': 'true'},\n",
       " 'vocabulary': {'directory_path': 'data/vocab/'},\n",
       " 'dataset_reader': {'included_text_fields': 'abstract title',\n",
       "  'predict_mode': 'true',\n",
       "  'overwrite_cache': True,\n",
       "  'use_cls_token': False,\n",
       "  'concat_title_abstract': True,\n",
       "  'data_file': 'data//train.json',\n",
       "  'margin_fraction': 0.4,\n",
       "  'samples_per_query': 5,\n",
       "  'max_sequence_length': 200,\n",
       "  'ratio_training_samples': '1.0',\n",
       "  'token_indexers': {'bert': {'do_lowercase': True,\n",
       "    'pretrained_model': 'hf_model/vocab.txt',\n",
       "    'type': 'bert-pretrained',\n",
       "    'use_starting_offsets': True}},\n",
       "  'lazy': True,\n",
       "  'ratio_hard_negatives': '0.2',\n",
       "  'cache_path': 'data//dataset-instance-cache/',\n",
       "  'word_splitter': 'bert-basic',\n",
       "  'type': 'specter_data_reader',\n",
       "  'paper_features_path': 'data/sample-metadata.json'}}"
      ]
     },
     "execution_count": 33,
     "metadata": {},
     "output_type": "execute_result"
    }
   ],
   "source": [
    "config.params"
   ]
  },
  {
   "cell_type": "code",
   "execution_count": 27,
   "id": "81633ebe",
   "metadata": {},
   "outputs": [
    {
     "name": "stdout",
     "output_type": "stream",
     "text": [
      "----weights_path ./hf_model/config.json\n"
     ]
    },
    {
     "ename": "ConfigurationError",
     "evalue": "'specter is not a registered name for Model. You probably need to use the --include-package flag to load your custom code. Alternatively, you can specify your choices using fully-qualified paths, e.g. {\"model\": \"my_module.models.MyModel\"} in which case they will be automatically imported correctly.'",
     "output_type": "error",
     "traceback": [
      "\u001B[0;31m---------------------------------------------------------------------------\u001B[0m",
      "\u001B[0;31mConfigurationError\u001B[0m                        Traceback (most recent call last)",
      "\u001B[0;32m/tmp/ipykernel_546054/3342526516.py\u001B[0m in \u001B[0;36m<module>\u001B[0;34m\u001B[0m\n\u001B[1;32m      1\u001B[0m \u001B[0mprint\u001B[0m\u001B[0;34m(\u001B[0m\u001B[0;34m\"----weights_path\"\u001B[0m\u001B[0;34m,\u001B[0m \u001B[0mos\u001B[0m\u001B[0;34m.\u001B[0m\u001B[0mpath\u001B[0m\u001B[0;34m.\u001B[0m\u001B[0mjoin\u001B[0m\u001B[0;34m(\u001B[0m\u001B[0mserialization_dir\u001B[0m\u001B[0;34m,\u001B[0m \u001B[0mCONFIG_NAME\u001B[0m\u001B[0;34m)\u001B[0m\u001B[0;34m)\u001B[0m\u001B[0;34m\u001B[0m\u001B[0;34m\u001B[0m\u001B[0m\n\u001B[1;32m      2\u001B[0m \u001B[0;31m# Instantiate model. Use a duplicate of the config, as it will get consumed.\u001B[0m\u001B[0;34m\u001B[0m\u001B[0;34m\u001B[0m\u001B[0;34m\u001B[0m\u001B[0m\n\u001B[0;32m----> 3\u001B[0;31m model = Model.load(config.duplicate(),\n\u001B[0m\u001B[1;32m      4\u001B[0m                    \u001B[0mweights_file\u001B[0m\u001B[0;34m=\u001B[0m\u001B[0mweights_path\u001B[0m\u001B[0;34m,\u001B[0m\u001B[0;34m\u001B[0m\u001B[0;34m\u001B[0m\u001B[0m\n\u001B[1;32m      5\u001B[0m                    \u001B[0mserialization_dir\u001B[0m\u001B[0;34m=\u001B[0m\u001B[0mserialization_dir\u001B[0m\u001B[0;34m,\u001B[0m\u001B[0;34m\u001B[0m\u001B[0;34m\u001B[0m\u001B[0m\n",
      "\u001B[0;32m~/.pyenv/versions/3.8.9/envs/py38/src/allennlp/allennlp/models/model.py\u001B[0m in \u001B[0;36mload\u001B[0;34m(cls, config, serialization_dir, weights_file, cuda_device)\u001B[0m\n\u001B[1;32m    325\u001B[0m         \u001B[0;31m# This allows subclasses of Model to override _load.\u001B[0m\u001B[0;34m\u001B[0m\u001B[0;34m\u001B[0m\u001B[0;34m\u001B[0m\u001B[0m\n\u001B[1;32m    326\u001B[0m         \u001B[0;31m# pylint: disable=protected-access\u001B[0m\u001B[0;34m\u001B[0m\u001B[0;34m\u001B[0m\u001B[0;34m\u001B[0m\u001B[0m\n\u001B[0;32m--> 327\u001B[0;31m         \u001B[0;32mreturn\u001B[0m \u001B[0mcls\u001B[0m\u001B[0;34m.\u001B[0m\u001B[0mby_name\u001B[0m\u001B[0;34m(\u001B[0m\u001B[0mmodel_type\u001B[0m\u001B[0;34m)\u001B[0m\u001B[0;34m.\u001B[0m\u001B[0m_load\u001B[0m\u001B[0;34m(\u001B[0m\u001B[0mconfig\u001B[0m\u001B[0;34m,\u001B[0m \u001B[0mserialization_dir\u001B[0m\u001B[0;34m,\u001B[0m \u001B[0mweights_file\u001B[0m\u001B[0;34m,\u001B[0m \u001B[0mcuda_device\u001B[0m\u001B[0;34m)\u001B[0m\u001B[0;34m\u001B[0m\u001B[0;34m\u001B[0m\u001B[0m\n\u001B[0m\u001B[1;32m    328\u001B[0m \u001B[0;34m\u001B[0m\u001B[0m\n\u001B[1;32m    329\u001B[0m     \u001B[0;32mdef\u001B[0m \u001B[0mextend_embedder_vocab\u001B[0m\u001B[0;34m(\u001B[0m\u001B[0mself\u001B[0m\u001B[0;34m,\u001B[0m \u001B[0membedding_sources_mapping\u001B[0m\u001B[0;34m:\u001B[0m \u001B[0mDict\u001B[0m\u001B[0;34m[\u001B[0m\u001B[0mstr\u001B[0m\u001B[0;34m,\u001B[0m \u001B[0mstr\u001B[0m\u001B[0;34m]\u001B[0m \u001B[0;34m=\u001B[0m \u001B[0;32mNone\u001B[0m\u001B[0;34m)\u001B[0m \u001B[0;34m->\u001B[0m \u001B[0;32mNone\u001B[0m\u001B[0;34m:\u001B[0m\u001B[0;34m\u001B[0m\u001B[0;34m\u001B[0m\u001B[0m\n",
      "\u001B[0;32m~/.pyenv/versions/3.8.9/envs/py38/src/allennlp/allennlp/common/registrable.py\u001B[0m in \u001B[0;36mby_name\u001B[0;34m(cls, name)\u001B[0m\n\u001B[1;32m     95\u001B[0m         \u001B[0;32melse\u001B[0m\u001B[0;34m:\u001B[0m\u001B[0;34m\u001B[0m\u001B[0;34m\u001B[0m\u001B[0m\n\u001B[1;32m     96\u001B[0m             \u001B[0;31m# is not a qualified class name\u001B[0m\u001B[0;34m\u001B[0m\u001B[0;34m\u001B[0m\u001B[0;34m\u001B[0m\u001B[0m\n\u001B[0;32m---> 97\u001B[0;31m             raise ConfigurationError(f\"{name} is not a registered name for {cls.__name__}. \"\n\u001B[0m\u001B[1;32m     98\u001B[0m                                      \u001B[0;34m\"You probably need to use the --include-package flag \"\u001B[0m\u001B[0;34m\u001B[0m\u001B[0;34m\u001B[0m\u001B[0m\n\u001B[1;32m     99\u001B[0m                                      \u001B[0;34m\"to load your custom code. Alternatively, you can specify your choices \"\u001B[0m\u001B[0;34m\u001B[0m\u001B[0;34m\u001B[0m\u001B[0m\n",
      "\u001B[0;31mConfigurationError\u001B[0m: 'specter is not a registered name for Model. You probably need to use the --include-package flag to load your custom code. Alternatively, you can specify your choices using fully-qualified paths, e.g. {\"model\": \"my_module.models.MyModel\"} in which case they will be automatically imported correctly.'"
     ]
    }
   ],
   "source": [
    "\n",
    "print(\"----weights_path\", os.path.join(serialization_dir, CONFIG_NAME))\n",
    "# Instantiate model. Use a duplicate of the config, as it will get consumed.\n",
    "model = Model.load(config.duplicate(),\n",
    "                   weights_file=weights_path,\n",
    "                   serialization_dir=serialization_dir,\n",
    "                   cuda_device=cuda_device)"
   ]
  }
 ],
 "metadata": {
  "kernelspec": {
   "display_name": "Python 3 (ipykernel)",
   "language": "python",
   "name": "python3"
  },
  "language_info": {
   "codemirror_mode": {
    "name": "ipython",
    "version": 3
   },
   "file_extension": ".py",
   "mimetype": "text/x-python",
   "name": "python",
   "nbconvert_exporter": "python",
   "pygments_lexer": "ipython3",
   "version": "3.8.9"
  }
 },
 "nbformat": 4,
 "nbformat_minor": 5
}
